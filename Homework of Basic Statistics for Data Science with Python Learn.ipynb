{
 "cells": [
  {
   "cell_type": "markdown",
   "metadata": {},
   "source": [
    "# Homework of Basic Statistics for Data Science in Python\n",
    "**Telkomsel Data Science Academy**\n",
    "<br> 9 October 2019 "
   ]
  },
  {
   "cell_type": "code",
   "execution_count": 2,
   "metadata": {},
   "outputs": [],
   "source": [
    "import pandas as pd\n",
    "import statistics as st"
   ]
  },
  {
   "cell_type": "code",
   "execution_count": 9,
   "metadata": {},
   "outputs": [
    {
     "data": {
      "text/html": [
       "<div>\n",
       "<style scoped>\n",
       "    .dataframe tbody tr th:only-of-type {\n",
       "        vertical-align: middle;\n",
       "    }\n",
       "\n",
       "    .dataframe tbody tr th {\n",
       "        vertical-align: top;\n",
       "    }\n",
       "\n",
       "    .dataframe thead th {\n",
       "        text-align: right;\n",
       "    }\n",
       "</style>\n",
       "<table border=\"1\" class=\"dataframe\">\n",
       "  <thead>\n",
       "    <tr style=\"text-align: right;\">\n",
       "      <th></th>\n",
       "      <th>App</th>\n",
       "      <th>Translated_Review</th>\n",
       "      <th>Sentiment</th>\n",
       "      <th>Sentiment_Polarity</th>\n",
       "      <th>Sentiment_Subjectivity</th>\n",
       "    </tr>\n",
       "  </thead>\n",
       "  <tbody>\n",
       "    <tr>\n",
       "      <th>0</th>\n",
       "      <td>10 Best Foods for You</td>\n",
       "      <td>I like eat delicious food. That's I'm cooking ...</td>\n",
       "      <td>Positive</td>\n",
       "      <td>1.00</td>\n",
       "      <td>0.533333</td>\n",
       "    </tr>\n",
       "    <tr>\n",
       "      <th>1</th>\n",
       "      <td>10 Best Foods for You</td>\n",
       "      <td>This help eating healthy exercise regular basis</td>\n",
       "      <td>Positive</td>\n",
       "      <td>0.25</td>\n",
       "      <td>0.288462</td>\n",
       "    </tr>\n",
       "    <tr>\n",
       "      <th>2</th>\n",
       "      <td>10 Best Foods for You</td>\n",
       "      <td>NaN</td>\n",
       "      <td>NaN</td>\n",
       "      <td>NaN</td>\n",
       "      <td>NaN</td>\n",
       "    </tr>\n",
       "    <tr>\n",
       "      <th>3</th>\n",
       "      <td>10 Best Foods for You</td>\n",
       "      <td>Works great especially going grocery store</td>\n",
       "      <td>Positive</td>\n",
       "      <td>0.40</td>\n",
       "      <td>0.875000</td>\n",
       "    </tr>\n",
       "    <tr>\n",
       "      <th>4</th>\n",
       "      <td>10 Best Foods for You</td>\n",
       "      <td>Best idea us</td>\n",
       "      <td>Positive</td>\n",
       "      <td>1.00</td>\n",
       "      <td>0.300000</td>\n",
       "    </tr>\n",
       "  </tbody>\n",
       "</table>\n",
       "</div>"
      ],
      "text/plain": [
       "                     App                                  Translated_Review  \\\n",
       "0  10 Best Foods for You  I like eat delicious food. That's I'm cooking ...   \n",
       "1  10 Best Foods for You    This help eating healthy exercise regular basis   \n",
       "2  10 Best Foods for You                                                NaN   \n",
       "3  10 Best Foods for You         Works great especially going grocery store   \n",
       "4  10 Best Foods for You                                       Best idea us   \n",
       "\n",
       "  Sentiment  Sentiment_Polarity  Sentiment_Subjectivity  \n",
       "0  Positive                1.00                0.533333  \n",
       "1  Positive                0.25                0.288462  \n",
       "2       NaN                 NaN                     NaN  \n",
       "3  Positive                0.40                0.875000  \n",
       "4  Positive                1.00                0.300000  "
      ]
     },
     "execution_count": 9,
     "metadata": {},
     "output_type": "execute_result"
    }
   ],
   "source": [
    "#1. Load googleplaystore_user_reviews.csv file from dataset folder, \n",
    "# and assign it as df_review.  \n",
    "# Fill this gap (___) and uncomment the following line! \n",
    "df_review = pd.read_csv(\"googleplaystore_user_reviews.csv\")\n",
    "df_review.head()"
   ]
  },
  {
   "cell_type": "code",
   "execution_count": 10,
   "metadata": {},
   "outputs": [
    {
     "data": {
      "text/plain": [
       "(64295, 5)"
      ]
     },
     "execution_count": 10,
     "metadata": {},
     "output_type": "execute_result"
    }
   ],
   "source": [
    "#2. How many rows and columns for df_review? \n",
    "df_review.shape"
   ]
  },
  {
   "cell_type": "code",
   "execution_count": 12,
   "metadata": {},
   "outputs": [
    {
     "data": {
      "text/plain": [
       "App                           0\n",
       "Translated_Review         26868\n",
       "Sentiment                 26863\n",
       "Sentiment_Polarity        26863\n",
       "Sentiment_Subjectivity    26863\n",
       "dtype: int64"
      ]
     },
     "execution_count": 12,
     "metadata": {},
     "output_type": "execute_result"
    }
   ],
   "source": [
    "#3. How many NaN value in dataset for each columns? \n",
    "df_review.isna().sum()\n"
   ]
  },
  {
   "cell_type": "code",
   "execution_count": 14,
   "metadata": {},
   "outputs": [
    {
     "data": {
      "text/plain": [
       "App                       0\n",
       "Translated_Review         0\n",
       "Sentiment                 0\n",
       "Sentiment_Polarity        0\n",
       "Sentiment_Subjectivity    0\n",
       "dtype: int64"
      ]
     },
     "execution_count": 14,
     "metadata": {},
     "output_type": "execute_result"
    }
   ],
   "source": [
    "#4. Perform drop all NaN values and assign as new data frame named df_rev_clean\n",
    "df_rev_clean=df_review.dropna()\n",
    "df_rev_clean.isna().sum()"
   ]
  },
  {
   "cell_type": "code",
   "execution_count": 15,
   "metadata": {},
   "outputs": [
    {
     "data": {
      "text/plain": [
       "(37427, 5)"
      ]
     },
     "execution_count": 15,
     "metadata": {},
     "output_type": "execute_result"
    }
   ],
   "source": [
    "#5. Upon dropping, how many rows and columns remaining?\n",
    "df_rev_clean.shape"
   ]
  },
  {
   "cell_type": "code",
   "execution_count": 16,
   "metadata": {},
   "outputs": [
    {
     "data": {
      "text/html": [
       "<div>\n",
       "<style scoped>\n",
       "    .dataframe tbody tr th:only-of-type {\n",
       "        vertical-align: middle;\n",
       "    }\n",
       "\n",
       "    .dataframe tbody tr th {\n",
       "        vertical-align: top;\n",
       "    }\n",
       "\n",
       "    .dataframe thead th {\n",
       "        text-align: right;\n",
       "    }\n",
       "</style>\n",
       "<table border=\"1\" class=\"dataframe\">\n",
       "  <thead>\n",
       "    <tr style=\"text-align: right;\">\n",
       "      <th></th>\n",
       "      <th>App</th>\n",
       "      <th>Translated_Review</th>\n",
       "      <th>Sentiment</th>\n",
       "      <th>Sentiment_Polarity</th>\n",
       "      <th>Sentiment_Subjectivity</th>\n",
       "    </tr>\n",
       "  </thead>\n",
       "  <tbody>\n",
       "    <tr>\n",
       "      <th>12028</th>\n",
       "      <td>Badoo - Free Chat &amp; Dating App</td>\n",
       "      <td>Rubbish app.</td>\n",
       "      <td>Neutral</td>\n",
       "      <td>0.0</td>\n",
       "      <td>0.0</td>\n",
       "    </tr>\n",
       "    <tr>\n",
       "      <th>35092</th>\n",
       "      <td>Docs To Go™ Free Office Suite</td>\n",
       "      <td>Very lite app..</td>\n",
       "      <td>Positive</td>\n",
       "      <td>0.2</td>\n",
       "      <td>0.3</td>\n",
       "    </tr>\n",
       "    <tr>\n",
       "      <th>48816</th>\n",
       "      <td>Free &amp; Premium VPN - FinchVPN</td>\n",
       "      <td>Nice, works Android 8</td>\n",
       "      <td>Positive</td>\n",
       "      <td>0.6</td>\n",
       "      <td>1.0</td>\n",
       "    </tr>\n",
       "  </tbody>\n",
       "</table>\n",
       "</div>"
      ],
      "text/plain": [
       "                                  App      Translated_Review Sentiment  \\\n",
       "12028  Badoo - Free Chat & Dating App           Rubbish app.   Neutral   \n",
       "35092   Docs To Go™ Free Office Suite        Very lite app..  Positive   \n",
       "48816   Free & Premium VPN - FinchVPN  Nice, works Android 8  Positive   \n",
       "\n",
       "       Sentiment_Polarity  Sentiment_Subjectivity  \n",
       "12028                 0.0                     0.0  \n",
       "35092                 0.2                     0.3  \n",
       "48816                 0.6                     1.0  "
      ]
     },
     "execution_count": 16,
     "metadata": {},
     "output_type": "execute_result"
    }
   ],
   "source": [
    "#6. Perform simple random sampling with only 3 sample \n",
    "# towards df_rev_clean with random_state=10 without replacement. \n",
    "# Write your code here (Hint: sample)\n",
    "\n",
    "df_rev_clean.sample(3,random_state=10, replace=False)\n",
    "\n"
   ]
  },
  {
   "cell_type": "code",
   "execution_count": 21,
   "metadata": {},
   "outputs": [
    {
     "name": "stdout",
     "output_type": "stream",
     "text": [
      "                                                               App  \\\n",
      "Sentiment                                                            \n",
      "Negative  24841                     Cat Sim Online: Play with Cats   \n",
      "          708           30 Day Fitness Challenge - Workout at Home   \n",
      "          1610                        8fit Workouts & Meal Planner   \n",
      "          7306                           Anger of stick 5 : zombie   \n",
      "          5843                                 All Social Networks   \n",
      "          40863                     Etsy: Handmade & Vintage Goods   \n",
      "          21756                           Calorie Counter - Macros   \n",
      "          62024                                  Hill Climb Racing   \n",
      "          13237                                Be A Legend: Soccer   \n",
      "          35864                           DoorDash - Food Delivery   \n",
      "Neutral   20166                    CM Locker - Security Lockscreen   \n",
      "          39188                        EatStreet Food Delivery App   \n",
      "          3946                                     AdWords Express   \n",
      "          58761                                HESI A2 Pocket Prep   \n",
      "          57798                             Grubhub: Food Delivery   \n",
      "          51880                      GUNSHIP BATTLE: Helicopter 3D   \n",
      "          57524                                Graphing Calculator   \n",
      "          4665                                             Agar.io   \n",
      "          61204                                        Hello Stars   \n",
      "          63490  Horoscopes – Daily Zodiac Horoscope and Astrology   \n",
      "Positive  23971    Candy selfie - photo editor, live filter camera   \n",
      "          32236                                   DIY Garden Ideas   \n",
      "          54471                     Golf GPS Rangefinder: Golf Pad   \n",
      "          43672                       Family Locator - GPS Tracker   \n",
      "          40723                                Essential Anatomy 3   \n",
      "          22104                     Calorie Counter - MyFitnessPal   \n",
      "          16355                       Blood Pressure Log - MyDiary   \n",
      "          12836                     Baritastic - Bariatric Tracker   \n",
      "          49385   Free Foreclosure Real Estate Search by USHUD.com   \n",
      "          49770  Free phone calls, free texting SMS on free number   \n",
      "\n",
      "                                                 Translated_Review Sentiment  \\\n",
      "Sentiment                                                                      \n",
      "Negative  24841  So multiplayer game name, like server about, a...  Negative   \n",
      "          708                     I hate forces exercise everyday.  Negative   \n",
      "          1610   After two days using app, simply stopped worki...  Negative   \n",
      "          7306                  Its really cool game keeps engaged  Negative   \n",
      "          5843                                             Dumb fb  Negative   \n",
      "          40863  Works wants i'm sick message Uh oh problem Try...  Negative   \n",
      "          21756  'search online' simply work, freezes time I tr...  Negative   \n",
      "          62024  Why link contact idiots designed game? There s...  Negative   \n",
      "          13237  Sick This game makes sick work everything acco...  Negative   \n",
      "          35864  At beginning fine, longer I it, worse gotten. ...  Negative   \n",
      "Neutral   20166  I like everytime I unlock phone there's passwo...   Neutral   \n",
      "          39188                       I always visiting Greensboro   Neutral   \n",
      "          3946                     opens 1st time reinstall again.   Neutral   \n",
      "          58761                                         Helped lot   Neutral   \n",
      "          57798      Won't stop asking rate despite saying \"Never\"   Neutral   \n",
      "          51880                         Won't start Essential PH-1   Neutral   \n",
      "          57524                                          Does job.   Neutral   \n",
      "          4665   The updates even work Android phones . No matt...   Neutral   \n",
      "          61204                                                Heh   Neutral   \n",
      "          63490                                            helpful   Neutral   \n",
      "Positive  23971                                              Great  Positive   \n",
      "          32236                              It great ideas garden  Positive   \n",
      "          54471  Nice app, efficient scoring entry. Love \"fly\" ...  Positive   \n",
      "          43672  I love app. One problem members often circle t...  Positive   \n",
      "          40723  It's OK get Version 3 Samsung. Honestly first ...  Positive   \n",
      "          22104  Overall good app. I wish favorites split meals...  Positive   \n",
      "          16355  This easy use, I love importantly, Dr. Is happ...  Positive   \n",
      "          12836                         Very good tracking protein  Positive   \n",
      "          49385  I could possibly get slow image loading I leas...  Positive   \n",
      "          49770  Don't it!This asks real number. Since I instal...  Positive   \n",
      "\n",
      "                 Sentiment_Polarity  Sentiment_Subjectivity  \n",
      "Sentiment                                                    \n",
      "Negative  24841           -0.350000                0.400000  \n",
      "          708             -0.500000                0.750000  \n",
      "          1610            -0.062500                0.339286  \n",
      "          7306            -0.025000                0.525000  \n",
      "          5843            -0.375000                0.500000  \n",
      "          40863           -0.257143                0.478571  \n",
      "          21756           -0.033333                0.426190  \n",
      "          62024           -0.183333                0.254167  \n",
      "          13237           -0.282143                0.678571  \n",
      "          35864           -0.129167                0.600000  \n",
      "Neutral   20166            0.000000                0.000000  \n",
      "          39188            0.000000                0.000000  \n",
      "          3946             0.000000                0.000000  \n",
      "          58761            0.000000                0.000000  \n",
      "          57798            0.000000                0.000000  \n",
      "          51880            0.000000                0.300000  \n",
      "          57524            0.000000                0.000000  \n",
      "          4665             0.000000                0.000000  \n",
      "          61204            0.000000                0.000000  \n",
      "          63490            0.000000                0.000000  \n",
      "Positive  23971            0.800000                0.750000  \n",
      "          32236            0.800000                0.750000  \n",
      "          54471            0.633333                0.833333  \n",
      "          43672            0.500000                0.600000  \n",
      "          40723            0.290000                0.506667  \n",
      "          22104            0.216667                0.504167  \n",
      "          16355            0.688889                0.863889  \n",
      "          12836            0.910000                0.780000  \n",
      "          49385            0.215000                0.554167  \n",
      "          49770            0.150000                0.350000  \n"
     ]
    }
   ],
   "source": [
    "# 7. Perform stratified random sampling for each sentiment (Neutral, Positive, and Negative) \n",
    "# with the following conditions:\n",
    "# 10 sample size per strata/group\n",
    "# random state = 10\n",
    "# without replacement\n",
    "# assign as df_sample dataframe \n",
    "\n",
    "# Fill up the gap (___) and uncomment the following code\n",
    "fn = lambda x: x.sample(n=10, random_state=10, replace=False)\n",
    "df_sample = df_rev_clean.groupby('Sentiment').apply(fn)\n",
    "\n",
    "print(df_sample)"
   ]
  },
  {
   "cell_type": "code",
   "execution_count": 25,
   "metadata": {},
   "outputs": [
    {
     "data": {
      "text/plain": [
       "'Positive'"
      ]
     },
     "execution_count": 25,
     "metadata": {},
     "output_type": "execute_result"
    }
   ],
   "source": [
    "#8. What is the mode value of Sentiment from df_rev_clean data frame? \n",
    "import statistics as st\n",
    "st.mode(df_rev_clean.Sentiment)"
   ]
  },
  {
   "cell_type": "code",
   "execution_count": 26,
   "metadata": {},
   "outputs": [
    {
     "ename": "StatisticsError",
     "evalue": "no unique mode; found 3 equally common values",
     "output_type": "error",
     "traceback": [
      "\u001b[1;31m---------------------------------------------------------------------------\u001b[0m",
      "\u001b[1;31mStatisticsError\u001b[0m                           Traceback (most recent call last)",
      "\u001b[1;32m<ipython-input-26-9cf8753160a0>\u001b[0m in \u001b[0;36m<module>\u001b[1;34m\u001b[0m\n\u001b[0;32m      1\u001b[0m \u001b[1;31m#9. What is the mode value of Sentiment on df_sample data frame? Why error popped up?\u001b[0m\u001b[1;33m\u001b[0m\u001b[1;33m\u001b[0m\u001b[1;33m\u001b[0m\u001b[0m\n\u001b[1;32m----> 2\u001b[1;33m \u001b[0mst\u001b[0m\u001b[1;33m.\u001b[0m\u001b[0mmode\u001b[0m\u001b[1;33m(\u001b[0m\u001b[0mdf_sample\u001b[0m\u001b[1;33m.\u001b[0m\u001b[0mSentiment\u001b[0m\u001b[1;33m)\u001b[0m\u001b[1;33m\u001b[0m\u001b[1;33m\u001b[0m\u001b[0m\n\u001b[0m",
      "\u001b[1;32mC:\\ProgramData\\Anaconda3\\lib\\statistics.py\u001b[0m in \u001b[0;36mmode\u001b[1;34m(data)\u001b[0m\n\u001b[0;32m    504\u001b[0m     \u001b[1;32melif\u001b[0m \u001b[0mtable\u001b[0m\u001b[1;33m:\u001b[0m\u001b[1;33m\u001b[0m\u001b[1;33m\u001b[0m\u001b[0m\n\u001b[0;32m    505\u001b[0m         raise StatisticsError(\n\u001b[1;32m--> 506\u001b[1;33m                 \u001b[1;34m'no unique mode; found %d equally common values'\u001b[0m \u001b[1;33m%\u001b[0m \u001b[0mlen\u001b[0m\u001b[1;33m(\u001b[0m\u001b[0mtable\u001b[0m\u001b[1;33m)\u001b[0m\u001b[1;33m\u001b[0m\u001b[1;33m\u001b[0m\u001b[0m\n\u001b[0m\u001b[0;32m    507\u001b[0m                 )\n\u001b[0;32m    508\u001b[0m     \u001b[1;32melse\u001b[0m\u001b[1;33m:\u001b[0m\u001b[1;33m\u001b[0m\u001b[1;33m\u001b[0m\u001b[0m\n",
      "\u001b[1;31mStatisticsError\u001b[0m: no unique mode; found 3 equally common values"
     ]
    }
   ],
   "source": [
    "#9. What is the mode value of Sentiment on df_sample data frame? Why error popped up?\n",
    "st.mode(df_sample.Sentiment)\n",
    "\n",
    "#StatisticsError: no unique mode; found 3 equally common values"
   ]
  },
  {
   "cell_type": "code",
   "execution_count": 28,
   "metadata": {},
   "outputs": [
    {
     "data": {
      "text/plain": [
       "Positive    23998\n",
       "Negative     8271\n",
       "Neutral      5158\n",
       "Name: Sentiment, dtype: int64"
      ]
     },
     "execution_count": 28,
     "metadata": {},
     "output_type": "execute_result"
    }
   ],
   "source": [
    "#10. How many positive, negative, and neutral in Sentiment column of df_rev_clean data frame?\n",
    "\n",
    "# Fill in the gap (___) and uncomment the following code\n",
    "df_rev_clean[\"Sentiment\"].value_counts()"
   ]
  },
  {
   "cell_type": "code",
   "execution_count": 53,
   "metadata": {},
   "outputs": [
    {
     "name": "stdout",
     "output_type": "stream",
     "text": [
      "Mean value of Sentiment polarity of Angry Birds Clasic is  -0.0075373947642518166\n",
      "Mean value of Sentiment Subjectivity of Angry Birds Clasic is  0.5348862663965559\n"
     ]
    }
   ],
   "source": [
    "#11. What is the mean value of sentiment_polarity and Sentiment Subjectivity of 'Angry Birds Classic'? \n",
    "\n",
    "# Write your code here\n",
    "df_rev_clean_AB = df_rev_clean[df_rev_clean.App=='Angry Birds Classic']\n",
    "#print(df_rev_clean_AB)\n",
    "print(\"Mean value of Sentiment polarity of Angry Birds Clasic is \",st.mean(df_rev_clean_AB.Sentiment_Polarity))\n",
    "print(\"Mean value of Sentiment Subjectivity of Angry Birds Clasic is \",st.mean(df_rev_clean_AB.Sentiment_Subjectivity))\n",
    "\n",
    "#st.mode(df_rev_clean.Sentiment)"
   ]
  },
  {
   "cell_type": "code",
   "execution_count": 50,
   "metadata": {},
   "outputs": [
    {
     "name": "stdout",
     "output_type": "stream",
     "text": [
      "Angry Birds Clasic rows is  273\n"
     ]
    }
   ],
   "source": [
    "#12. How many Angry Birds Classic rows were included in df_rev_clean data frame?\n",
    "\n",
    "# Write your code here\n",
    "print(\"Angry Birds Clasic rows is \",len(df_rev_clean_AB))"
   ]
  },
  {
   "cell_type": "code",
   "execution_count": 63,
   "metadata": {},
   "outputs": [
    {
     "name": "stdout",
     "output_type": "stream",
     "text": [
      "Median value of Sentiment polarity of Candy Crush Saga is  -0.01102272727272727\n"
     ]
    }
   ],
   "source": [
    "#13. What is the median value of sentiment polarity and Sentiment Subjectivity of 'Candy Crush Saga'?\n",
    "\n",
    "# Write your code here (Hint: median)\n",
    "print(\"Median value of Sentiment polarity of Candy Crush Saga is \", st.median(df_rev_clean[df_rev_clean.App=='Candy Crush Saga'].Sentiment_Polarity))"
   ]
  },
  {
   "cell_type": "code",
   "execution_count": 58,
   "metadata": {},
   "outputs": [
    {
     "data": {
      "text/plain": [
       "'Bowmasters'"
      ]
     },
     "execution_count": 58,
     "metadata": {},
     "output_type": "execute_result"
    }
   ],
   "source": [
    "#14. What is the mode value of App in the df_rev_clean? - This apps has highest number of rows in the dataset. \n",
    "\n",
    "# Write your code here (Hint: st.mode)\n",
    "st.mode(df_rev_clean.App)\n",
    "#df_rev_clean[\"App\"].value_counts()"
   ]
  },
  {
   "cell_type": "code",
   "execution_count": 77,
   "metadata": {},
   "outputs": [
    {
     "name": "stdout",
     "output_type": "stream",
     "text": [
      "Spearman Method: \n",
      "                          Sentiment_Polarity  Sentiment_Subjectivity\n",
      "Sentiment_Polarity                1.000000                0.351522\n",
      "Sentiment_Subjectivity            0.351522                1.000000 \n",
      "\n",
      "\n",
      "Pearson Method: \n",
      "                         Sentiment_Polarity  Sentiment_Subjectivity\n",
      "Sentiment_Polarity                1.000000                0.261587\n",
      "Sentiment_Subjectivity            0.261587                1.000000 \n",
      "\n",
      "\n",
      "Kendall Method: \n",
      "                         Sentiment_Polarity  Sentiment_Subjectivity\n",
      "Sentiment_Polarity                1.000000                0.259973\n",
      "Sentiment_Subjectivity            0.259973                1.000000\n"
     ]
    }
   ],
   "source": [
    "#15. What is the correlation value between Sentiment Polarity and Sentiment Subjectivity \n",
    "# using spearman, pearson, and kendall\n",
    "\n",
    "# Fill in the gap and change the method using spearman, pearson, and kendall!\n",
    "print(\"Spearman Method: \\n\", df_rev_clean.filter(like=\"Sentiment_\").corr(method= 'spearman'),\"\\n\\n\")\n",
    "print(\"Pearson Method: \\n\" ,df_rev_clean.filter(like=\"Sentiment_\").corr(method= 'pearson'),\"\\n\\n\")\n",
    "print(\"Kendall Method: \\n\", df_rev_clean.filter(like=\"Sentiment_\").corr(method= 'kendall'))\n",
    " "
   ]
  },
  {
   "cell_type": "code",
   "execution_count": null,
   "metadata": {},
   "outputs": [],
   "source": []
  }
 ],
 "metadata": {
  "kernelspec": {
   "display_name": "Python 3",
   "language": "python",
   "name": "python3"
  },
  "language_info": {
   "codemirror_mode": {
    "name": "ipython",
    "version": 3
   },
   "file_extension": ".py",
   "mimetype": "text/x-python",
   "name": "python",
   "nbconvert_exporter": "python",
   "pygments_lexer": "ipython3",
   "version": "3.7.3"
  }
 },
 "nbformat": 4,
 "nbformat_minor": 2
}
